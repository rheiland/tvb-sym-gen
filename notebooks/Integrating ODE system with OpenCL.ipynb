{
 "metadata": {
  "name": ""
 },
 "nbformat": 3,
 "nbformat_minor": 0,
 "worksheets": [
  {
   "cells": [
    {
     "cell_type": "code",
     "collapsed": false,
     "input": [
      "%pylab inline"
     ],
     "language": "python",
     "metadata": {},
     "outputs": [
      {
       "output_type": "stream",
       "stream": "stdout",
       "text": [
        "\n",
        "Welcome to pylab, a matplotlib-based Python environment [backend: module://IPython.zmq.pylab.backend_inline].\n",
        "For more information, type 'help(pylab)'.\n"
       ]
      }
     ],
     "prompt_number": 1
    },
    {
     "cell_type": "markdown",
     "metadata": {},
     "source": [
      "# PyOpenCL!\n",
      "\n",
      "Getting started on Debian is easy http://wiki.tiker.net/OpenCLHowTo#Debian\n",
      "\n",
      "`su -c 'apt-get install amd-libopencl1 amd-opencl-dev'`\n",
      "\n",
      "and then for PyOpenCL, see http://mathema.tician.de/software/pyopencl/, it's `git clone`, `python setup.py install`."
     ]
    },
    {
     "cell_type": "code",
     "collapsed": false,
     "input": [
      "import pyopencl as cl\n",
      "import pyopencl.array as cla\n",
      "import numpy as np\n",
      "import string"
     ],
     "language": "python",
     "metadata": {},
     "outputs": [],
     "prompt_number": 111
    },
    {
     "cell_type": "code",
     "collapsed": false,
     "input": [
      "ctx = cl.create_some_context()\n",
      "qu = cl.CommandQueue(ctx)"
     ],
     "language": "python",
     "metadata": {},
     "outputs": [],
     "prompt_number": 3
    },
    {
     "cell_type": "markdown",
     "metadata": {},
     "source": [
      "The OepnCL kernel"
     ]
    },
    {
     "cell_type": "code",
     "collapsed": false,
     "input": [
      "prg = cl.Program(ctx, string.Template('''\n",
      "void dfun(__global float *X, __global float *DX, float c_pop1, float c_pop2)\n",
      "{\n",
      "\n",
      "    float y0=X[0], y1=X[1], y2=X[2], y3=X[3], y4=X[4], y5=X[5];\n",
      "\n",
      "    if (y0 < 0.0)\n",
      "        DX[0] = ($tt*(y1 - $a*y0*y0*y0 + $b*y0*y0 - y2 + $Iext + $Kvf*c_pop1));\n",
      "    else\n",
      "        DX[0] = ($tt*(y1 + ($slope - y3 + 0.6*(y2-4.0)*(y2-4.0))*y0 - y2 + $Iext + $Kvf*c_pop1));\n",
      "\n",
      "    DX[1] = $tt*($c - $d*y0*y0 - y1);\n",
      "    DX[2] = ($tt*($r*(3./(1.+exp(-(y0+0.5)/0.2)) + $x0 - y2 - $Ks*c_pop1)));\n",
      "\n",
      "    DX[3] = ($tt*(-y4 + y3 - y3*y3*y3 + $Iext2 + 2*y5 - 0.3*(y2 - 3.5) + $Kf*c_pop2));\n",
      "\n",
      "    if (y3 < -0.25)\n",
      "        DX[4] =  ($tt*(-y4/$tau));\n",
      "    else\n",
      "        DX[4] = ($tt*((-y4 + $aa*(y3 + 0.25))/$tau));\n",
      "\n",
      "    DX[5] = ($tt*(-0.01*(y5 - 0.1*y0)));\n",
      "\n",
      "}\n",
      "\n",
      "__kernel void integrate($fargs)\n",
      "{\n",
      "    int i = get_global_id(0)\n",
      "      , i_ = $nsvar * i\n",
      "      , nnode = get_global_size(0)\n",
      "      , step\n",
      "      , j\n",
      "      ;\n",
      "\n",
      "    float c_pop1, c_pop2;\n",
      "\n",
      "    for (step=0; step < $nstep; step++)\n",
      "    {\n",
      "        // compute coupling\n",
      "        c_pop1 = c_pop2 = 0.0;\n",
      "        for (j=0; j<nnode; j++)\n",
      "        {                                      // Difference coupling\n",
      "            c_pop1 += k * g[i*nnode + j] * (x[$nsvar*j + 0] - x[i_ + 0]);\n",
      "            c_pop2 += k * g[i*nnode + j] * (x[$nsvar*j + 3] - x[i_ + 3]);\n",
      "        }\n",
      "\n",
      "        // Heun method\n",
      "        dfun(x + i_, dx + i_, c_pop1, c_pop2);\n",
      "        for (j=0; j<$nsvar; j++) \n",
      "            xt[i_+j] = x[i_+j] + dt * dx[i_+j];\n",
      "\n",
      "        dfun(xt + i_, dxt + i_, c_pop1, c_pop2);\n",
      "        for (j=0; j<$nsvar; j++) \n",
      "            x[i_+j] += dt / 2.0 * (dx[i_+j] + dxt[i_+j]);\n",
      "\n",
      "        barrier(CLK_LOCAL_MEM_FENCE | CLK_GLOBAL_MEM_FENCE);\n",
      "    }\n",
      "}\n",
      "''').substitute(**{\n",
      "    'fargs': ', '.join(['__global float *%s' % (nm,) for nm in ['x', 'dx', 'xt', 'dxt', 'g']] \n",
      "                        + ['float %s' % (nm, ) for nm in ('k', 'dt')]),\n",
      "    'nsvar': 6,\n",
      "    'nstep': 100,\n",
      "    # from region...py\n",
      "    'x0': '2.5', 'Ks': '0.0',\n",
      "    # defaults\n",
      "    'a': '1.0', 'b': '3.0', 'c': '1.0', 'd': '5.0', 'r': '0.00035',\n",
      "    's': '4.0', 'Iext': '3.1', 'omega2': '0.1', 'slope': '0.0',\n",
      "    'Iext2': '0.45', 'tau': '10.0', 'aa': '6.0', 'Kvf': '0.0', 'Kf': '0.0', 'tt': str(1.0/2**4),\n",
      "    \n",
      "})).build()\n"
     ],
     "language": "python",
     "metadata": {},
     "outputs": [],
     "prompt_number": 251
    },
    {
     "cell_type": "markdown",
     "metadata": {},
     "source": [
      "Initial conditions"
     ]
    },
    {
     "cell_type": "code",
     "collapsed": false,
     "input": [
      "n = 74\n",
      "nsvar = 6\n",
      "x_g = cla.to_device(qu, np.array(\n",
      "    [np.random.uniform(size=n, low=low, high=high)\n",
      "     for low, high in [(-1.7, -1.69),\n",
      "                        (-15.0, -14.9),\n",
      "                        (3.9, 4.0),\n",
      "                        (-0.7, -0.68),\n",
      "                        (0, 1e-10),\n",
      "                        (0., 1e-2)]]).astype(np.float32).T)\n",
      "dx_g, xt_g, dxt_g = [cla.empty_like(x_g) for i in range(3)]\n",
      "g_g = cla.to_device(qu, 3*np.random.rand(n, n).astype(np.float32))"
     ],
     "language": "python",
     "metadata": {},
     "outputs": [],
     "prompt_number": 261
    },
    {
     "cell_type": "markdown",
     "metadata": {},
     "source": [
      "Integrate"
     ]
    },
    {
     "cell_type": "code",
     "collapsed": false,
     "input": [
      "xs = []\n",
      "for i in xrange(10000):\n",
      "    prg.integrate(qu, (x_g.shape[0], ), None, \n",
      "        x_g.data, dx_g.data, xt_g.data, dxt_g.data, g_g.data,\n",
      "        np.float32(0.01), np.float32(1e-3))\n",
      "    xs.append(x_g.get())\n",
      "\n",
      "xs = np.array(xs)"
     ],
     "language": "python",
     "metadata": {},
     "outputs": [],
     "prompt_number": 264
    },
    {
     "cell_type": "code",
     "collapsed": false,
     "input": [
      "figure(figsize=(15, 5))\n",
      "plot(xs[:, 0, :])\n",
      "legend(['y0', 'y1', 'y2', 'y3', 'y4', 'y5'])\n",
      "grid(True)"
     ],
     "language": "python",
     "metadata": {},
     "outputs": [
      {
       "output_type": "display_data",
       "png": "[encoded data removed]"
      }
     ],
     "prompt_number": 265
    },
    {
     "cell_type": "code",
     "collapsed": false,
     "input": [],
     "language": "python",
     "metadata": {},
     "outputs": []
    }
   ],
   "metadata": {}
  }
 ]
}